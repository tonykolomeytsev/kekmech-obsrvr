{
 "cells": [
  {
   "cell_type": "markdown",
   "metadata": {},
   "source": [
    "## Расчёт позиций маркеров в системе координат полигона\n",
    "\n",
    "На поле расположено 7 маркеров, координаты которых в СК полигона известны. Три маркера расположены в углах поля, по ним должна производиться \"калибровка\" камеры. Еще 4 маркера лежат в произвольных местах, но их координаты надо вычислить через найденную во время \"калибровки\" матрицу трансформации, после чего сравнить с реальными координатами. Задача в том, чтобы добиться минимальной погрешности в определении координат.\n",
    "\n",
    "В файле `data.csv` содержится 7 столбцов со следующей структурой:\n",
    "\n",
    "- **id**:int - id aruco-маркера в словаре ARUCO_DICT_5X5_250\n",
    "- **rvec**:nparray - R-вектор координат маркера\n",
    "- **tvec**:nparray - T-вектор координат маркера. Причем $T = \\begin{bmatrix} x & y & z\\end{bmatrix}$, где $x,y,z$ - это координаты маркера в СК камеры\n",
    "- **R**:nparray - матрица поворота $R_{3x3} $ (точнее 9 её элементов)\n",
    "- **roll** - \n",
    "- **pitch** - \n",
    "- **yaw** - "
   ]
  },
  {
   "cell_type": "code",
   "execution_count": 126,
   "metadata": {
    "collapsed": true
   },
   "outputs": [],
   "source": [
    "# This import registers the 3D projection, but is otherwise unused.\n",
    "from mpl_toolkits.mplot3d import Axes3D  # noqa: F401 unused import\n",
    "\n",
    "\n",
    "import numpy as np\n",
    "import matplotlib.pyplot as plt\n",
    "import pandas as pd\n",
    "import re, math\n"
   ]
  },
  {
   "cell_type": "markdown",
   "metadata": {},
   "source": [
    "Начальные данные таковы:\n",
    "![img](img1.png)"
   ]
  },
  {
   "cell_type": "code",
   "execution_count": 77,
   "metadata": {
    "collapsed": true
   },
   "outputs": [],
   "source": [
    "def mm(x, y):\n",
    "    return y, 400 - x \n",
    "\n",
    "#aruco 72\n",
    "m72_real_x, m72_real_y = mm(30, 30)\n",
    "m72_real_z = 0\n",
    "\n",
    "# aruco 74\n",
    "m74_real_x, m74_real_y = mm(370, 30)\n",
    "m74_real_z = 0\n",
    "\n",
    "#aruco 71\n",
    "m71_real_x, m71_real_y = mm(30, 570)\n",
    "m71_real_z = 0\n",
    "\n",
    "#aruco 73 dont used in this experiment\n",
    "m73_real_x, m73_real_y = mm(370, 570)\n",
    "m73_real_z = 0\n",
    "\n",
    "#aruco 171\n",
    "m171_real_x, m171_real_y = mm(100, 120)\n",
    "m171_real_z = 0\n",
    "\n",
    "#aruco 172\n",
    "m172_real_x, m172_real_y = mm(270, 380)\n",
    "m172_real_z = 0\n",
    "\n",
    "#aruco 173\n",
    "m173_real_x, m173_real_y = mm(220, 190)\n",
    "m173_real_z = 0\n",
    "\n",
    "#aruco 174\n",
    "m174_real_x, m174_real_y = mm(100, 400)\n",
    "m174_real_z = 0"
   ]
  },
  {
   "cell_type": "code",
   "execution_count": 108,
   "metadata": {
    "collapsed": true
   },
   "outputs": [],
   "source": [
    "class Marker():\n",
    "    def __init__(self, marker_id, data, real_pos):\n",
    "        \"\"\"\n",
    "        real_pos - tuple with real x, y, z coordinates\n",
    "        \"\"\"\n",
    "        mydata = data[data['id']==marker_id]\n",
    "        self.marker_id = marker_id\n",
    "        self.rvecs = [list(map(lambda x: float(x), re.split(\"\\s+\", i.strip(\" []\")))) for i in mydata['rvec']]\n",
    "        self.tvecs = [list(map(lambda x: float(x), re.split(\"\\s+\", i.strip(\" []\")))) for i in mydata['tvec']]\n",
    "        self.Rs = [list(map(lambda x: float(x), re.split(\"\\s+\", i.strip(\" []\")))) for i in mydata['R']]\n",
    "        self.rolls = [float(e) for e in mydata['roll']]\n",
    "        self.pitches = [float(e) for e in mydata['pitch']]\n",
    "        self.yaws = [float(e) for e in mydata['yaw']]\n",
    "        \n",
    "        #look at means with numpy\n",
    "        self.rvec = np.mean(np.array(self.rvecs, dtype=np.float32), 0)\n",
    "        self.tvec = np.mean(np.array(self.rvecs, dtype=np.float32), 0)\n",
    "        self.R = np.mean(np.array(self.Rs, dtype=np.float32), 0).reshape(3, 3)\n",
    "        self.R = np.dot(self.R, np.array([1, 0, 0, 0, -1, 0, 0, 0, -1]).reshape(3,3))\n",
    "        self.roll = np.mean(np.array(self.rolls, dtype=np.float32), 0)\n",
    "        self.pitch = np.mean(np.array(self.pitches, dtype=np.float32), 0)\n",
    "        self.yaw = np.mean(np.array(self.yaws, dtype=np.float32), 0)\n",
    "        \n",
    "        self.tvec4 = np.concatenate([self.tvec, [1]])\n",
    "        self.rvec4 = np.concatenate([self.rvec, [1]])\n",
    "        \n",
    "        self.real_position = np.array(real_pos)\n",
    "        MAGIC_NUMBER = 10\n",
    "        self.axis_z = self.tvec + (self.R.transpose()[2]*MAGIC_NUMBER)\n",
    "        self.axis_z4 = np.concatenate([self.axis_z, [1]])\n",
    "        \n",
    "    def __str__(self):\n",
    "        return \"Marker id={}; tvec={};\".format(self.marker_id, self.tvec)\n",
    "        "
   ]
  },
  {
   "cell_type": "code",
   "execution_count": 94,
   "metadata": {
    "collapsed": true
   },
   "outputs": [],
   "source": [
    "data = pd.read_csv(\"data.csv\", delimiter=\";\")"
   ]
  },
  {
   "cell_type": "markdown",
   "metadata": {
    "scrolled": true
   },
   "source": [
    "Определим каждый маркер, как отдельный объект, так будет проще читать"
   ]
  },
  {
   "cell_type": "code",
   "execution_count": 109,
   "metadata": {
    "collapsed": true
   },
   "outputs": [],
   "source": [
    "m71 = Marker(71, data, (m71_real_x, m71_real_y, m71_real_z, 1))\n",
    "m72 = Marker(72, data, (m72_real_x, m72_real_y, m72_real_z, 1))\n",
    "#m73 = Marker(73, data, (m73_real_x, m73_real_y, m73_real_z, 1))\n",
    "m74 = Marker(74, data, (m74_real_x, m74_real_y, m74_real_z, 1))\n",
    "\n",
    "m171 = Marker(171, data, (m171_real_x, m171_real_y, m171_real_z, 1))\n",
    "m172 = Marker(172, data, (m172_real_x, m172_real_y, m172_real_z, 1))\n",
    "m173 = Marker(173, data, (m173_real_x, m173_real_y, m173_real_z, 1))\n",
    "m174 = Marker(174, data, (m174_real_x, m174_real_y, m174_real_z, 1))"
   ]
  },
  {
   "cell_type": "code",
   "execution_count": 81,
   "metadata": {},
   "outputs": [
    {
     "data": {
      "text/plain": [
       "array([-0.0275262 , -0.03193714,  0.11077833,  1.        ])"
      ]
     },
     "execution_count": 81,
     "metadata": {},
     "output_type": "execute_result"
    }
   ],
   "source": [
    "half_size = 6/2 # [mm]\n",
    "Rt = m173.R.transpose()\n",
    "\n",
    "x72_axis = np.concatenate([(Rt[0] * half_size) + m72.tvec, [0]])\n",
    "y72_axis = np.concatenate([(Rt[1] * half_size) + m72.tvec, [0]])\n",
    "z72_axis = np.concatenate([(Rt[2] * 0) + m72.tvec, [0]])\n",
    "t72_axis = np.concatenate([m72.tvec, [1]])\n",
    "\n",
    "M = np.concatenate([x72_axis, y72_axis, z72_axis, t72_axis]).reshape(4,4)\n",
    "\n",
    "t173_axis = np.concatenate([m172.tvec, [1]])\n",
    "np.matmul(t173_axis, np.linalg.inv(M))"
   ]
  },
  {
   "cell_type": "code",
   "execution_count": 76,
   "metadata": {},
   "outputs": [
    {
     "name": "stdout",
     "output_type": "stream",
     "text": [
      "[[ 1.03681648  4.87848234 -0.40592548  0.        ]\n",
      " [ 3.64572644  2.51501656 -2.77367592  0.        ]\n",
      " [ 1.56038785  1.93882668 -0.69546354  0.        ]\n",
      " [ 1.56038785  1.93882668 -0.69546354  1.        ]]\n",
      "[-0.00982803 -0.00623688  0.03080761  1.        ]\n",
      "[370  30   0]\n"
     ]
    }
   ],
   "source": [
    "half_size = 6/2 # [mm]\n",
    "R = m72.R\n",
    "tvec = m72.tvec\n",
    "\n",
    "x72_axis = np.concatenate([R[0]*half_size + tvec, [0]])\n",
    "y72_axis = np.concatenate([R[1]*half_size + tvec, [0]])\n",
    "z72_axis = np.concatenate([R[2]*0 + tvec, [0]])\n",
    "t72_axis = np.concatenate([tvec, [1]])\n",
    "\n",
    "M = np.concatenate([x72_axis, y72_axis, z72_axis, t72_axis]).reshape(4,4)\n",
    "print(M)\n",
    "\n",
    "t_axis = np.concatenate([m74.tvec, [1]])\n",
    "print(np.matmul(t_axis, np.linalg.inv(M)))\n",
    "print(m74.real_position)"
   ]
  },
  {
   "cell_type": "code",
   "execution_count": 116,
   "metadata": {},
   "outputs": [
    {
     "name": "stdout",
     "output_type": "stream",
     "text": [
      "Marker id=72; tvec=[ 1.5603878   1.9388267  -0.69546354];\n",
      "[[-0.1745238  -0.97988522 -0.09651268  1.56038785]\n",
      " [ 0.69511282 -0.19206324  0.69273752  1.93882668]\n",
      " [-0.6973471   0.05380565  0.71466112 -0.69546354]\n",
      " [ 0.          0.          0.          1.        ]] \n",
      " [[-0.17454797  0.69515125 -0.69739829 -1.56043034]\n",
      " [-0.97993081 -0.19204432  0.0538165   1.93884019]\n",
      " [-0.09654184  0.69276859  0.71471034 -0.69546053]\n",
      " [ 0.          0.          0.          1.        ]]\n",
      "[[-1.5604303418211116, 1.938840188326717, -0.6954605338056477], 0, 0] \n",
      "\n",
      "\n",
      "\n",
      "\n",
      "\n",
      "Marker id=74; tvec=[ 1.5755318   1.9349256  -0.69560057];\n",
      "[[-0.16680336 -0.98195654 -0.08871286  1.57553184]\n",
      " [ 0.70071077 -0.18138193  0.68996996  1.93492556]\n",
      " [-0.69362938  0.05292328  0.71832687 -0.69560057]\n",
      " [ 0.          0.          0.          1.        ]] \n",
      " [[-0.16682353  0.7007403  -0.69368023 -1.5755689 ]\n",
      " [-0.98202023 -0.18137117  0.0529325   1.93496373]\n",
      " [-0.08873672  0.69001014  0.71839391 -0.69559551]\n",
      " [ 0.          0.          0.          1.        ]]\n",
      "[[-1.5604303418211116, 1.938840188326717, -0.6954605338056477], [-1.5755688999610376, 1.9349637290616393, -0.6955955126084229], 0] \n",
      "\n",
      "\n",
      "\n",
      "\n",
      "\n",
      "Marker id=71; tvec=[ 1.5628015  1.9610018 -0.7175816];\n",
      "[[-0.19291875 -0.97818995 -0.07543849  1.56280148]\n",
      " [ 0.6985212  -0.19089879  0.68957818  1.96100175]\n",
      " [-0.68893516  0.08033952  0.72019875 -0.71758163]\n",
      " [ 0.          0.          0.          1.        ]] \n",
      " [[-0.19294055  0.69863001 -0.68913637 -1.5629985 ]\n",
      " [-0.97842818 -0.19096661  0.08036012  1.96123982]\n",
      " [-0.07541957  0.6896054   0.72032009 -0.71756311]\n",
      " [ 0.          0.          0.          1.        ]]\n",
      "[[-1.5604303418211116, 1.938840188326717, -0.6954605338056477], [-1.5755688999610376, 1.9349637290616393, -0.6955955126084229], [-1.5629984961764072, 1.961239819940754, -0.7175631142965524]] \n",
      "\n",
      "\n",
      "\n",
      "\n",
      "\n"
     ]
    }
   ],
   "source": [
    "def get_pos(m):\n",
    "    t = m.tvec\n",
    "    R = m.R\n",
    "    M = np.array([[R[0,0], R[0,1], R[0,2], t[0]],\n",
    "                  [R[1,0], R[1,1], R[1,2], t[1]],\n",
    "                  [R[2,0], R[2,1], R[2,2], t[2]],\n",
    "                  [0,      0,      0,      1]])\n",
    "    M_i=np.linalg.inv(M)\n",
    "    worldPos = [M_i[0,3],M_i[1,3],M_i[2,3]]\n",
    "    return M, M_i, worldPos\n",
    "\n",
    "worldPos = [0, 0, 0]\n",
    "for i, m in enumerate([m72, m74, m71]):\n",
    "    print(m)\n",
    "    M, M_i, worldPos[i] = get_pos(m)\n",
    "    print(M, \"\\n\", M_i)\n",
    "    print(worldPos, \"\\n\\n\\n\\n\\n\")"
   ]
  },
  {
   "cell_type": "markdown",
   "metadata": {},
   "source": [
    "![img](img1.png)"
   ]
  },
  {
   "cell_type": "code",
   "execution_count": 122,
   "metadata": {},
   "outputs": [
    {
     "name": "stdout",
     "output_type": "stream",
     "text": [
      "A:\n",
      " [[ 0.59526102  1.56038785  1.56280148]\n",
      " [ 8.86620188  1.93882668  1.96100175]\n",
      " [ 6.45114768 -0.69546354 -0.71758163]] \n",
      "\n",
      "B:\n",
      " [[  0  30 570]\n",
      " [  0 370 370]\n",
      " [ 10   0   0]]\n",
      "\n",
      "Op: Cam -> Polygon =\n",
      " [[-2.15341249e+04  1.20959502e+04 -1.46371957e+04]\n",
      " [ 2.68252446e+02 -2.27289153e+01  6.48550126e+00]\n",
      " [-5.87028368e-01  7.01885523e-01  6.39634461e-01]]\n",
      "\n",
      "calculated =  [-7.13616975e+04  4.08100334e+02 -1.73997049e+00] \n",
      "real =  [120 300   0   1]\n"
     ]
    },
    {
     "data": {
      "image/png": "[encoded data removed]",
      "text/plain": [
       "<Figure size 432x288 with 1 Axes>"
      ]
     },
     "metadata": {},
     "output_type": "display_data"
    },
    {
     "name": "stdout",
     "output_type": "stream",
     "text": [
      "0.467800065589788 -1997999.9999999988\n",
      "842.2213339496451\n"
     ]
    }
   ],
   "source": [
    "A = np.concatenate([ m72.axis_z, m72.tvec, m71.tvec]).reshape(3, 3).transpose()\n",
    "MN = 10\n",
    "B = np.array([0,  m72_real_x, m71_real_x, \\\n",
    "              0,  m72_real_y, m71_real_y, \\\n",
    "              10, m72_real_z, m71_real_z]).reshape(3, 3)\n",
    "print(\"A:\\n\",A,\"\\n\\nB:\\n\", B)\n",
    "\n",
    "Op = np.dot(B, np.linalg.inv(A))\n",
    "print(\"\\nOp: Cam -> Polygon =\\n\", Op)\n",
    "\n",
    "np.dot(Op, m71.tvec)\n",
    "\n",
    "K = m171.tvec\n",
    "\n",
    "Kop = np.dot(Op, K)\n",
    "print(\"\\ncalculated = \", Kop, \"\\nreal = \", m171.real_position)\n",
    "plt.scatter(B[0],B[1])\n",
    "plt.scatter(Kop[0],Kop[1])\n",
    "plt.show()\n",
    "detA = np.linalg.det(A)\n",
    "detB = np.linalg.det(B)\n",
    "print(detA, detB)\n",
    "print(np.linalg.cond(A))"
   ]
  },
  {
   "cell_type": "code",
   "execution_count": 118,
   "metadata": {},
   "outputs": [
    {
     "name": "stdout",
     "output_type": "stream",
     "text": [
      "[190, 180, 0]\n",
      "[-2.69975367e+02  3.73851104e+02  2.44956710e-02]\n"
     ]
    }
   ],
   "source": [
    "print([m173_real_x, m173_real_y, m173_real_z])\n",
    "print(np.dot(Op, m173.tvec))"
   ]
  },
  {
   "cell_type": "code",
   "execution_count": 119,
   "metadata": {
    "collapsed": true
   },
   "outputs": [],
   "source": [
    "from scipy.spatial.transform import Rotation as R"
   ]
  },
  {
   "cell_type": "code",
   "execution_count": 120,
   "metadata": {},
   "outputs": [
    {
     "name": "stdout",
     "output_type": "stream",
     "text": [
      "[-100.09936715    5.53969853  135.89258646]\n",
      "[ 1.56038785  1.93882668 -0.69546354  1.        ]\n",
      "[ 1.56280148  1.96100175 -0.71758163  1.        ]\n",
      "[ 1.57553184  1.93492556 -0.69560057  1.        ]\n",
      "\n",
      "\n",
      "\n",
      "[-2.1456132   0.24028721 -1.42047203  2.86265921]\n",
      "[-2.16610747  0.22248599 -1.43628546  2.91824847]\n",
      "[-2.14470779  0.25151775 -1.43132051  2.83143646]\n"
     ]
    }
   ],
   "source": [
    "r = R.from_rotvec(m72.rvec)\n",
    "print(r.as_euler('zyx', degrees=True))\n",
    "\n",
    "P72 = np.concatenate([m72.tvec, [1]])\n",
    "P71 = np.concatenate([m71.tvec, [1]])\n",
    "P74 = np.concatenate([m74.tvec, [1]])\n",
    "\n",
    "print(P72)\n",
    "print(P71)\n",
    "print(P74)\n",
    "P72loc = np.dot(P72, np.linalg.inv(M))\n",
    "P71loc = np.dot(P71, np.linalg.inv(M))\n",
    "P74loc = np.dot(P74, np.linalg.inv(M))\n",
    "print(\"\\n\\n\")\n",
    "print(P72loc)\n",
    "print(P71loc)\n",
    "print(P74loc)"
   ]
  },
  {
   "cell_type": "code",
   "execution_count": 115,
   "metadata": {},
   "outputs": [
    {
     "data": {
      "text/plain": [
       "-36.8792243"
      ]
     },
     "execution_count": 115,
     "metadata": {},
     "output_type": "execute_result"
    }
   ],
   "source": [
    "-3.68792243e+01"
   ]
  },
  {
   "cell_type": "code",
   "execution_count": 127,
   "metadata": {},
   "outputs": [
    {
     "name": "stderr",
     "output_type": "stream",
     "text": [
      "C:\\ProgramData\\Anaconda3\\lib\\site-packages\\matplotlib\\collections.py:902: RuntimeWarning: invalid value encountered in sqrt\n",
      "  scale = np.sqrt(self._sizes) * dpi / 72.0 * self._factor\n"
     ]
    },
    {
     "data": {
      "image/png": "[encoded data removed]",
      "text/plain": [
       "<Figure size 432x288 with 1 Axes>"
      ]
     },
     "metadata": {},
     "output_type": "display_data"
    }
   ],
   "source": [
    "\n",
    "coords=np.concatenate([m74.tvec, m72.tvec, m71.tvec]).reshape(3,-1).transpose()\n",
    "x = coords[0]\n",
    "y = coords[1]\n",
    "z = coords[2]\n",
    "\n",
    "plt.scatter(x, y, z)\n",
    "plt.show()\n"
   ]
  },
  {
   "cell_type": "code",
   "execution_count": null,
   "metadata": {
    "collapsed": true
   },
   "outputs": [],
   "source": [
    "[-0.17185973,\n",
    "  0.98206893,\n",
    "  0.07749094,\n",
    "  0.70365828,\n",
    "  0.17742803,\n",
    "  -0.6880293,\n",
    "  -0.68944127,\n",
    "  -0.06371739,\n",
    "  -0.72153367]"
   ]
  }
 ],
 "metadata": {
  "kernelspec": {
   "display_name": "Python 3",
   "language": "python",
   "name": "python3"
  },
  "language_info": {
   "codemirror_mode": {
    "name": "ipython",
    "version": 3
   },
   "file_extension": ".py",
   "mimetype": "text/x-python",
   "name": "python",
   "nbconvert_exporter": "python",
   "pygments_lexer": "ipython3",
   "version": "3.6.6"
  }
 },
 "nbformat": 4,
 "nbformat_minor": 2
}

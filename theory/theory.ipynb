{
 "cells": [
  {
   "cell_type": "markdown",
   "metadata": {},
   "source": [
    "## Расчёт позиций маркеров в системе координат полигона\n",
    "\n",
    "На поле расположено 7 маркеров, координаты которых в СК полигона известны. Три маркера расположены в углах поля, по ним должна производиться \"калибровка\" камеры. Еще 4 маркера лежат в произвольных местах, но их координаты надо вычислить через найденную во время \"калибровки\" матрицу трансформации, после чего сравнить с реальными координатами. Задача в том, чтобы добиться минимальной погрешности в определении координат.\n",
    "\n",
    "В файле `data.csv` содержится 7 столбцов со следующей структурой:\n",
    "\n",
    "- **id**:int - id aruco-маркера в словаре ARUCO_DICT_5X5_250\n",
    "- **rvec**:nparray - R-вектор координат маркера\n",
    "- **tvec**:nparray - T-вектор координат маркера. Причем $T = \\begin{bmatrix} x & y & z\\end{bmatrix}$, где $x,y,z$ - это координаты маркера в СК камеры\n",
    "- **R**:nparray - матрица поворота $R_{3x3} $ (точнее 9 её элементов)\n",
    "- **roll** - \n",
    "- **pitch** - \n",
    "- **yaw** - "
   ]
  },
  {
   "cell_type": "code",
   "execution_count": 2,
   "metadata": {
    "collapsed": true
   },
   "outputs": [],
   "source": [
    "import numpy as np\n",
    "import matplotlib.pyplot as plt\n",
    "import pandas as pd\n",
    "import re"
   ]
  },
  {
   "cell_type": "markdown",
   "metadata": {},
   "source": [
    "Начальные данные таковы:\n",
    "![img](img1.png)"
   ]
  },
  {
   "cell_type": "code",
   "execution_count": 21,
   "metadata": {
    "collapsed": true
   },
   "outputs": [],
   "source": [
    "#aruco 72\n",
    "m72_real_x = 30\n",
    "m72_real_y = 30\n",
    "m72_real_z = 0\n",
    "\n",
    "# aruco 74\n",
    "m74_real_x = 370\n",
    "m74_real_y = 30\n",
    "m74_real_z = 0\n",
    "\n",
    "#aruco 71\n",
    "m71_real_x = 30\n",
    "m71_real_y = 530\n",
    "m71_real_z = 0\n",
    "\n",
    "#aruco 73 dont used in this experiment\n",
    "m73_real_x = 370\n",
    "m73_real_y = 530\n",
    "m73_real_z = 0\n",
    "\n",
    "#aruco 171\n",
    "m171_real_x = 100\n",
    "m171_real_y = 120\n",
    "m171_real_z = 0\n",
    "\n",
    "#aruco 172\n",
    "m172_real_x = 270\n",
    "m172_real_y = 380\n",
    "m172_real_z = 0\n",
    "\n",
    "#aruco 173\n",
    "m173_real_x = 220\n",
    "m173_real_y = 190\n",
    "m173_real_z = 0\n",
    "\n",
    "#aruco 174\n",
    "m174_real_x = 100\n",
    "m174_real_y = 400\n",
    "m174_real_z = 0"
   ]
  },
  {
   "cell_type": "code",
   "execution_count": 22,
   "metadata": {
    "collapsed": true
   },
   "outputs": [],
   "source": [
    "class Marker():\n",
    "    def __init__(self, marker_id, data, real_pos):\n",
    "        \"\"\"\n",
    "        real_pos - tuple with real x, y, z coordinates\n",
    "        \"\"\"\n",
    "        mydata = data[data['id']==marker_id]\n",
    "        self.marker_id = marker_id\n",
    "        self.rvecs = [list(map(lambda x: float(x), re.split(\"\\s+\", i.strip(\" []\")))) for i in mydata['rvec']]\n",
    "        self.tvecs = [list(map(lambda x: float(x), re.split(\"\\s+\", i.strip(\" []\")))) for i in mydata['tvec']]\n",
    "        self.Rs = [list(map(lambda x: float(x), re.split(\"\\s+\", i.strip(\" []\")))) for i in mydata['R']]\n",
    "        self.rolls = [float(e) for e in mydata['roll']]\n",
    "        self.pitches = [float(e) for e in mydata['pitch']]\n",
    "        self.yaws = [float(e) for e in mydata['yaw']]\n",
    "        \n",
    "        #look at means with numpy\n",
    "        self.rvec = np.mean(np.array(self.rvecs, dtype=np.float32), 0)\n",
    "        self.tvec = np.mean(np.array(self.rvecs, dtype=np.float32), 0)\n",
    "        self.R = np.mean(np.array(self.Rs, dtype=np.float32), 0).reshape(3, 3)\n",
    "        self.roll = np.mean(np.array(self.rolls, dtype=np.float32), 0)\n",
    "        self.pitch = np.mean(np.array(self.pitches, dtype=np.float32), 0)\n",
    "        self.yaw = np.mean(np.array(self.yaws, dtype=np.float32), 0)\n",
    "        \n",
    "        self.real_position = np.array(real_pos)\n",
    "        "
   ]
  },
  {
   "cell_type": "code",
   "execution_count": 23,
   "metadata": {
    "collapsed": true
   },
   "outputs": [],
   "source": [
    "data = pd.read_csv(\"data.csv\", delimiter=\";\")"
   ]
  },
  {
   "cell_type": "markdown",
   "metadata": {
    "scrolled": true
   },
   "source": [
    "Определим каждый маркер, как отдельный объект, так будет проще читать"
   ]
  },
  {
   "cell_type": "code",
   "execution_count": 25,
   "metadata": {},
   "outputs": [],
   "source": [
    "m71 = Marker(71, data, (m71_real_x, m71_real_y, m71_real_z))\n",
    "m72 = Marker(72, data, (m72_real_x, m72_real_y, m72_real_z))\n",
    "#m73 = Marker(73, data, (m73_real_x, m73_real_y, m73_real_z))\n",
    "m74 = Marker(74, data, (m74_real_x, m74_real_y, m74_real_z))\n",
    "\n",
    "m171 = Marker(171, data, (m171_real_x, m171_real_y, m171_real_z))\n",
    "m172 = Marker(172, data, (m172_real_x, m172_real_y, m172_real_z))\n",
    "m173 = Marker(173, data, (m173_real_x, m173_real_y, m173_real_z))\n",
    "m174 = Marker(174, data, (m174_real_x, m174_real_y, m174_real_z))"
   ]
  },
  {
   "cell_type": "code",
   "execution_count": 58,
   "metadata": {},
   "outputs": [
    {
     "data": {
      "text/plain": [
       "array([-0.0275262 , -0.03193714,  0.11077833,  1.        ])"
      ]
     },
     "execution_count": 58,
     "metadata": {},
     "output_type": "execute_result"
    }
   ],
   "source": [
    "half_size = 6/2 # [mm]\n",
    "Rt = m173.R.transpose()\n",
    "\n",
    "x72_axis = np.concatenate([(Rt[0] * half_size) + m72.tvec, [0]])\n",
    "y72_axis = np.concatenate([(Rt[1] * half_size) + m72.tvec, [0]])\n",
    "z72_axis = np.concatenate([(Rt[2] * 0) + m72.tvec, [0]])\n",
    "t72_axis = np.concatenate([m72.tvec, [1]])\n",
    "\n",
    "M = np.concatenate([x72_axis, y72_axis, z72_axis, t72_axis]).reshape(4,4)\n",
    "\n",
    "t173_axis = np.concatenate([m172.tvec, [1]])\n",
    "np.matmul(t173_axis, np.linalg.inv(M))"
   ]
  },
  {
   "cell_type": "code",
   "execution_count": 76,
   "metadata": {},
   "outputs": [
    {
     "name": "stdout",
     "output_type": "stream",
     "text": [
      "[[ 1.03681648  4.87848234 -0.40592548  0.        ]\n",
      " [ 3.64572644  2.51501656 -2.77367592  0.        ]\n",
      " [ 1.56038785  1.93882668 -0.69546354  0.        ]\n",
      " [ 1.56038785  1.93882668 -0.69546354  1.        ]]\n",
      "[-0.00982803 -0.00623688  0.03080761  1.        ]\n",
      "[370  30   0]\n"
     ]
    }
   ],
   "source": [
    "half_size = 6/2 # [mm]\n",
    "R = m72.R\n",
    "tvec = m72.tvec\n",
    "\n",
    "x72_axis = np.concatenate([R[0]*half_size + tvec, [0]])\n",
    "y72_axis = np.concatenate([R[1]*half_size + tvec, [0]])\n",
    "z72_axis = np.concatenate([R[2]*0 + tvec, [0]])\n",
    "t72_axis = np.concatenate([tvec, [1]])\n",
    "\n",
    "M = np.concatenate([x72_axis, y72_axis, z72_axis, t72_axis]).reshape(4,4)\n",
    "print(M)\n",
    "\n",
    "t_axis = np.concatenate([m74.tvec, [1]])\n",
    "print(np.matmul(t_axis, np.linalg.inv(M)))\n",
    "print(m74.real_position)"
   ]
  },
  {
   "cell_type": "code",
   "execution_count": null,
   "metadata": {
    "collapsed": true
   },
   "outputs": [],
   "source": []
  },
  {
   "cell_type": "code",
   "execution_count": null,
   "metadata": {
    "collapsed": true
   },
   "outputs": [],
   "source": []
  },
  {
   "cell_type": "code",
   "execution_count": null,
   "metadata": {
    "collapsed": true
   },
   "outputs": [],
   "source": []
  },
  {
   "cell_type": "code",
   "execution_count": null,
   "metadata": {
    "collapsed": true
   },
   "outputs": [],
   "source": []
  },
  {
   "cell_type": "code",
   "execution_count": null,
   "metadata": {
    "collapsed": true
   },
   "outputs": [],
   "source": [
    "[-0.17185973,\n",
    "  0.98206893,\n",
    "  0.07749094,\n",
    "  0.70365828,\n",
    "  0.17742803,\n",
    "  -0.6880293,\n",
    "  -0.68944127,\n",
    "  -0.06371739,\n",
    "  -0.72153367]"
   ]
  }
 ],
 "metadata": {
  "kernelspec": {
   "display_name": "Python 3",
   "language": "python",
   "name": "python3"
  },
  "language_info": {
   "codemirror_mode": {
    "name": "ipython",
    "version": 3
   },
   "file_extension": ".py",
   "mimetype": "text/x-python",
   "name": "python",
   "nbconvert_exporter": "python",
   "pygments_lexer": "ipython3",
   "version": "3.6.6"
  }
 },
 "nbformat": 4,
 "nbformat_minor": 2
}

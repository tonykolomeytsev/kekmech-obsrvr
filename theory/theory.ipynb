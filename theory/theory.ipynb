{
 "cells": [
  {
   "cell_type": "markdown",
   "metadata": {},
   "source": [
    "## Расчёт позиций маркеров в системе координат полигона\n",
    "\n",
    "На поле расположено 7 маркеров, координаты которых в СК полигона известны. Три маркера расположены в углах поля, по ним должна производиться \"калибровка\" камеры. Еще 4 маркера лежат в произвольных местах, но их координаты надо вычислить через найденную во время \"калибровки\" матрицу трансформации, после чего сравнить с реальными координатами. Задача в том, чтобы добиться минимальной погрешности в определении координат.\n",
    "\n",
    "В файле `data.csv` содержится 7 столбцов со следующей структурой:\n",
    "\n",
    "- **id**:int - id aruco-маркера в словаре ARUCO_DICT_5X5_250\n",
    "- **rvec**:nparray - R-вектор координат маркера\n",
    "- **tvec**:nparray - T-вектор координат маркера. Причем $T = \\begin{bmatrix} x & y & z\\end{bmatrix}$, где $x,y,z$ - это координаты маркера в СК камеры\n",
    "- **R**:nparray - матрица поворота $R_{3x3} $ (точнее 9 её элементов)\n",
    "- **roll** - \n",
    "- **pitch** - \n",
    "- **yaw** - "
   ]
  },
  {
   "cell_type": "code",
   "execution_count": 1,
   "metadata": {
    "collapsed": true
   },
   "outputs": [],
   "source": [
    "import numpy as np\n",
    "import matplotlib.pyplot as plt\n",
    "import pandas as pd\n",
    "import re, math"
   ]
  },
  {
   "cell_type": "markdown",
   "metadata": {},
   "source": [
    "Начальные данные таковы:\n",
    "![img](img1.png)"
   ]
  },
  {
   "cell_type": "code",
   "execution_count": 68,
   "metadata": {
    "collapsed": true
   },
   "outputs": [],
   "source": [
    "def mm(x, y):\n",
    "    return y, 400 - x \n",
    "\n",
    "#aruco 72\n",
    "m72_real_x, m72_real_y = mm(30, 30)\n",
    "m72_real_z = 0\n",
    "\n",
    "# aruco 74\n",
    "m74_real_x, m74_real_y = mm(370, 30)\n",
    "m74_real_z = 0\n",
    "\n",
    "#aruco 71\n",
    "m71_real_x, m71_real_y = mm(30, 570)\n",
    "m71_real_z = 0\n",
    "\n",
    "#aruco 73 dont used in this experiment\n",
    "m73_real_x, m73_real_y = mm(370, 570)\n",
    "m73_real_z = 0\n",
    "\n",
    "#aruco 171\n",
    "m171_real_x, m171_real_y = mm(100, 120)\n",
    "m171_real_z = 0\n",
    "\n",
    "#aruco 172\n",
    "m172_real_x, m172_real_y = mm(270, 380)\n",
    "m172_real_z = 0\n",
    "\n",
    "#aruco 173\n",
    "m173_real_x, m173_real_y = mm(220, 190)\n",
    "m173_real_z = 0\n",
    "\n",
    "#aruco 174\n",
    "m174_real_x, m174_real_y = mm(100, 400)\n",
    "m174_real_z = 0"
   ]
  },
  {
   "cell_type": "code",
   "execution_count": 69,
   "metadata": {
    "collapsed": true
   },
   "outputs": [],
   "source": [
    "class Marker():\n",
    "    def __init__(self, marker_id, data, real_pos):\n",
    "        \"\"\"\n",
    "        real_pos - tuple with real x, y, z coordinates\n",
    "        \"\"\"\n",
    "        mydata = data[data['id']==marker_id]\n",
    "        self.marker_id = marker_id\n",
    "        self.rvecs = [list(map(lambda x: float(x), re.split(\"\\s+\", i.strip(\" []\")))) for i in mydata['rvec']]\n",
    "        self.tvecs = [list(map(lambda x: float(x), re.split(\"\\s+\", i.strip(\" []\")))) for i in mydata['tvec']]\n",
    "        self.Rs = [list(map(lambda x: float(x), re.split(\"\\s+\", i.strip(\" []\")))) for i in mydata['R']]\n",
    "        self.rolls = [float(e) for e in mydata['roll']]\n",
    "        self.pitches = [float(e) for e in mydata['pitch']]\n",
    "        self.yaws = [float(e) for e in mydata['yaw']]\n",
    "        \n",
    "        #look at means with numpy\n",
    "        self.rvec = np.mean(np.array(self.rvecs, dtype=np.float32), 0)\n",
    "        self.tvec = np.mean(np.array(self.rvecs, dtype=np.float32), 0)\n",
    "        self.R = np.mean(np.array(self.Rs, dtype=np.float32), 0).reshape(3, 3)\n",
    "        self.roll = np.mean(np.array(self.rolls, dtype=np.float32), 0)\n",
    "        self.pitch = np.mean(np.array(self.pitches, dtype=np.float32), 0)\n",
    "        self.yaw = np.mean(np.array(self.yaws, dtype=np.float32), 0)\n",
    "        \n",
    "        self.tvec4 = np.concatenate([self.tvec, [1]])\n",
    "        self.rvec4 = np.concatenate([self.rvec, [1]])\n",
    "        \n",
    "        self.real_position = np.array(real_pos)\n",
    "        \n",
    "    def __str__(self):\n",
    "        return \"Marker id={}; tvec={};\".format(self.marker_id, self.tvec)\n",
    "        "
   ]
  },
  {
   "cell_type": "code",
   "execution_count": 70,
   "metadata": {
    "collapsed": true
   },
   "outputs": [],
   "source": [
    "data = pd.read_csv(\"data.csv\", delimiter=\";\")"
   ]
  },
  {
   "cell_type": "markdown",
   "metadata": {
    "scrolled": true
   },
   "source": [
    "Определим каждый маркер, как отдельный объект, так будет проще читать"
   ]
  },
  {
   "cell_type": "code",
   "execution_count": 71,
   "metadata": {
    "collapsed": true
   },
   "outputs": [],
   "source": [
    "m71 = Marker(71, data, (m71_real_x, m71_real_y, m71_real_z, 1))\n",
    "m72 = Marker(72, data, (m72_real_x, m72_real_y, m72_real_z, 1))\n",
    "#m73 = Marker(73, data, (m73_real_x, m73_real_y, m73_real_z, 1))\n",
    "m74 = Marker(74, data, (m74_real_x, m74_real_y, m74_real_z, 1))\n",
    "\n",
    "m171 = Marker(171, data, (m171_real_x, m171_real_y, m171_real_z, 1))\n",
    "m172 = Marker(172, data, (m172_real_x, m172_real_y, m172_real_z, 1))\n",
    "m173 = Marker(173, data, (m173_real_x, m173_real_y, m173_real_z, 1))\n",
    "m174 = Marker(174, data, (m174_real_x, m174_real_y, m174_real_z, 1))"
   ]
  },
  {
   "cell_type": "code",
   "execution_count": 72,
   "metadata": {},
   "outputs": [
    {
     "data": {
      "text/plain": [
       "array([-0.0275262 , -0.03193714,  0.11077833,  1.        ])"
      ]
     },
     "execution_count": 72,
     "metadata": {},
     "output_type": "execute_result"
    }
   ],
   "source": [
    "half_size = 6/2 # [mm]\n",
    "Rt = m173.R.transpose()\n",
    "\n",
    "x72_axis = np.concatenate([(Rt[0] * half_size) + m72.tvec, [0]])\n",
    "y72_axis = np.concatenate([(Rt[1] * half_size) + m72.tvec, [0]])\n",
    "z72_axis = np.concatenate([(Rt[2] * 0) + m72.tvec, [0]])\n",
    "t72_axis = np.concatenate([m72.tvec, [1]])\n",
    "\n",
    "M = np.concatenate([x72_axis, y72_axis, z72_axis, t72_axis]).reshape(4,4)\n",
    "\n",
    "t173_axis = np.concatenate([m172.tvec, [1]])\n",
    "np.matmul(t173_axis, np.linalg.inv(M))"
   ]
  },
  {
   "cell_type": "code",
   "execution_count": 76,
   "metadata": {},
   "outputs": [
    {
     "name": "stdout",
     "output_type": "stream",
     "text": [
      "[[ 1.03681648  4.87848234 -0.40592548  0.        ]\n",
      " [ 3.64572644  2.51501656 -2.77367592  0.        ]\n",
      " [ 1.56038785  1.93882668 -0.69546354  0.        ]\n",
      " [ 1.56038785  1.93882668 -0.69546354  1.        ]]\n",
      "[-0.00982803 -0.00623688  0.03080761  1.        ]\n",
      "[370  30   0]\n"
     ]
    }
   ],
   "source": [
    "half_size = 6/2 # [mm]\n",
    "R = m72.R\n",
    "tvec = m72.tvec\n",
    "\n",
    "x72_axis = np.concatenate([R[0]*half_size + tvec, [0]])\n",
    "y72_axis = np.concatenate([R[1]*half_size + tvec, [0]])\n",
    "z72_axis = np.concatenate([R[2]*0 + tvec, [0]])\n",
    "t72_axis = np.concatenate([tvec, [1]])\n",
    "\n",
    "M = np.concatenate([x72_axis, y72_axis, z72_axis, t72_axis]).reshape(4,4)\n",
    "print(M)\n",
    "\n",
    "t_axis = np.concatenate([m74.tvec, [1]])\n",
    "print(np.matmul(t_axis, np.linalg.inv(M)))\n",
    "print(m74.real_position)"
   ]
  },
  {
   "cell_type": "code",
   "execution_count": 171,
   "metadata": {},
   "outputs": [
    {
     "name": "stdout",
     "output_type": "stream",
     "text": [
      "Marker id=72; tvec=[ 1.5603878   1.9388267  -0.69546354];\n",
      "[[-0.1745238   0.97988522  0.09651268  1.56038785]\n",
      " [ 0.69511282  0.19206324 -0.69273752  1.93882668]\n",
      " [-0.6973471  -0.05380565 -0.71466112 -0.69546354]\n",
      " [ 0.          0.          0.          1.        ]] \n",
      " [[-0.17454797  0.69515125 -0.69739829 -1.56043034]\n",
      " [ 0.97993081  0.19204432 -0.0538165  -1.93884019]\n",
      " [ 0.09654184 -0.69276859 -0.71471034  0.69546053]\n",
      " [ 0.          0.          0.          1.        ]]\n",
      "[[-1.5604303418211116, -1.938840188326717, 0.6954605338056477], 0, 0] \n",
      "\n",
      "\n",
      "\n",
      "\n",
      "\n",
      "Marker id=74; tvec=[ 1.5755318   1.9349256  -0.69560057];\n",
      "[[-0.16680336  0.98195654  0.08871286  1.57553184]\n",
      " [ 0.70071077  0.18138193 -0.68996996  1.93492556]\n",
      " [-0.69362938 -0.05292328 -0.71832687 -0.69560057]\n",
      " [ 0.          0.          0.          1.        ]] \n",
      " [[-0.16682353  0.7007403  -0.69368023 -1.5755689 ]\n",
      " [ 0.98202023  0.18137117 -0.0529325  -1.93496373]\n",
      " [ 0.08873672 -0.69001014 -0.71839391  0.69559551]\n",
      " [ 0.          0.          0.          1.        ]]\n",
      "[[-1.5604303418211116, -1.938840188326717, 0.6954605338056477], [-1.5755688999610376, -1.9349637290616393, 0.6955955126084229], 0] \n",
      "\n",
      "\n",
      "\n",
      "\n",
      "\n",
      "Marker id=71; tvec=[ 1.5628015  1.9610018 -0.7175816];\n",
      "[[-0.19291875  0.97818995  0.07543849  1.56280148]\n",
      " [ 0.6985212   0.19089879 -0.68957818  1.96100175]\n",
      " [-0.68893516 -0.08033952 -0.72019875 -0.71758163]\n",
      " [ 0.          0.          0.          1.        ]] \n",
      " [[-0.19294055  0.69863001 -0.68913637 -1.5629985 ]\n",
      " [ 0.97842818  0.19096661 -0.08036012 -1.96123982]\n",
      " [ 0.07541957 -0.6896054  -0.72032009  0.71756311]\n",
      " [ 0.          0.          0.          1.        ]]\n",
      "[[-1.5604303418211116, -1.938840188326717, 0.6954605338056477], [-1.5755688999610376, -1.9349637290616393, 0.6955955126084229], [-1.5629984961764072, -1.961239819940754, 0.7175631142965524]] \n",
      "\n",
      "\n",
      "\n",
      "\n",
      "\n"
     ]
    }
   ],
   "source": [
    "def get_pos(m):\n",
    "    t = m.tvec\n",
    "    R = m.R\n",
    "    M = np.array([[R[0,0], R[0,1], R[0,2], t[0]],\n",
    "                  [R[1,0], R[1,1], R[1,2], t[1]],\n",
    "                  [R[2,0], R[2,1], R[2,2], t[2]],\n",
    "                  [0,      0,      0,      1]])\n",
    "    M_i=np.linalg.inv(M)\n",
    "    worldPos = [M_i[0,3],M_i[1,3],M_i[2,3]]\n",
    "    return M, M_i, worldPos\n",
    "\n",
    "worldPos = [0, 0, 0]\n",
    "for i, m in enumerate([m72, m74, m71]):\n",
    "    print(m)\n",
    "    M, M_i, worldPos[i] = get_pos(m)\n",
    "    print(M, \"\\n\", M_i)\n",
    "    print(worldPos, \"\\n\\n\\n\\n\\n\")"
   ]
  },
  {
   "cell_type": "markdown",
   "metadata": {},
   "source": [
    "![img](img1.png)"
   ]
  },
  {
   "cell_type": "code",
   "execution_count": 75,
   "metadata": {},
   "outputs": [
    {
     "name": "stdout",
     "output_type": "stream",
     "text": [
      "A:\n",
      " [[ 1.57553184  1.56038785  1.56280148  1.56178796]\n",
      " [ 1.93492556  1.93882668  1.96100175  1.96027935]\n",
      " [-0.69560057 -0.69546354 -0.71758163 -0.67016298]\n",
      " [ 1.          1.          1.          1.        ]] \n",
      "\n",
      "B:\n",
      " [[ 30  30 570 380]\n",
      " [ 30 370 370 130]\n",
      " [  0   0   0   0]\n",
      " [  1   1   1   1]]\n",
      "\n",
      "Op: Cam -> Polygon =\n",
      " [[ 5.17350917e+03  2.02093797e+04 -3.58840078e+03 -4.97207674e+04]\n",
      " [-2.32891924e+04 -3.05634002e+03 -5.60564049e+03  3.87373678e+04]\n",
      " [ 0.00000000e+00  0.00000000e+00  0.00000000e+00  0.00000000e+00]\n",
      " [ 0.00000000e+00  3.55271368e-15  0.00000000e+00  1.00000000e+00]]\n",
      "[ 637.29012292 -218.26312692    0.            1.        ]\n"
     ]
    },
    {
     "data": {
      "image/png": "[encoded data removed]",
      "text/plain": [
       "<Figure size 432x288 with 1 Axes>"
      ]
     },
     "metadata": {},
     "output_type": "display_data"
    },
    {
     "name": "stdout",
     "output_type": "stream",
     "text": [
      "1.6038310182474023e-05\n"
     ]
    }
   ],
   "source": [
    "A = np.concatenate([m74.tvec4, m72.tvec4, m71.tvec4, m172.tvec4]).reshape(4, 4).transpose()\n",
    "B = np.array([m74_real_x, m72_real_x, m71_real_x, m172_real_x, \\\n",
    "              m74_real_y, m72_real_y, m71_real_y, m172_real_y, \\\n",
    "              m74_real_z, m72_real_z, m71_real_z, m172_real_z, 1, 1, 1, 1]).reshape(4, 4)\n",
    "print(\"A:\\n\",A,\"\\n\\nB:\\n\", B)\n",
    "\n",
    "Op = np.dot(B, np.linalg.inv(A))\n",
    "print(\"\\nOp: Cam -> Polygon =\\n\", Op)\n",
    "\n",
    "np.dot(Op, m71.tvec4)\n",
    "\n",
    "K = m173.tvec4\n",
    "\n",
    "Kop = np.dot(Op, K)\n",
    "print(Kop)\n",
    "plt.scatter(B[0],B[1])\n",
    "plt.scatter(Kop[0],Kop[1])\n",
    "plt.show()\n",
    "print(np.linalg.det(A))"
   ]
  },
  {
   "cell_type": "code",
   "execution_count": 36,
   "metadata": {},
   "outputs": [
    {
     "name": "stdout",
     "output_type": "stream",
     "text": [
      "[220, 190, 0]\n",
      "[-679.86642525 -966.49061749    0.        ]\n"
     ]
    }
   ],
   "source": [
    "print([m173_real_x, m173_real_y, m173_real_z])\n",
    "print(np.dot(Op, m173.tvec))"
   ]
  },
  {
   "cell_type": "code",
   "execution_count": 134,
   "metadata": {
    "collapsed": true
   },
   "outputs": [],
   "source": [
    "from scipy.spatial.transform import Rotation as R"
   ]
  },
  {
   "cell_type": "code",
   "execution_count": 138,
   "metadata": {},
   "outputs": [
    {
     "name": "stdout",
     "output_type": "stream",
     "text": [
      "[-100.09936715    5.53969853  135.89258646]\n",
      "[ 1.56038785  1.93882668 -0.69546354  1.        ]\n",
      "[ 1.56280148  1.96100175 -0.71758163  1.        ]\n",
      "[ 1.57553184  1.93492556 -0.69560057  1.        ]\n",
      "\n",
      "\n",
      "\n",
      "[-0.54472505  2.16941112 -2.17642364  1.        ]\n",
      "[-0.52555163  2.19067028 -2.16349225  1.        ]\n",
      "[-0.55120447  2.17928423 -2.18667715  1.        ]\n"
     ]
    }
   ],
   "source": [
    "r = R.from_rotvec(m72.rvec)\n",
    "print(r.as_euler('zyx', degrees=True))\n",
    "\n",
    "P72 = np.concatenate([m72.tvec, [1]])\n",
    "P71 = np.concatenate([m71.tvec, [1]])\n",
    "P74 = np.concatenate([m74.tvec, [1]])\n",
    "\n",
    "print(P72)\n",
    "print(P71)\n",
    "print(P74)\n",
    "P72loc = np.dot(P72, np.linalg.inv(M))\n",
    "P71loc = np.dot(P71, np.linalg.inv(M))\n",
    "P74loc = np.dot(P74, np.linalg.inv(M))\n",
    "print(\"\\n\\n\")\n",
    "print(P72loc)\n",
    "print(P71loc)\n",
    "print(P74loc)"
   ]
  },
  {
   "cell_type": "code",
   "execution_count": 115,
   "metadata": {},
   "outputs": [
    {
     "data": {
      "text/plain": [
       "-36.8792243"
      ]
     },
     "execution_count": 115,
     "metadata": {},
     "output_type": "execute_result"
    }
   ],
   "source": [
    "-3.68792243e+01"
   ]
  },
  {
   "cell_type": "code",
   "execution_count": 172,
   "metadata": {},
   "outputs": [
    {
     "data": {
      "image/png": "[encoded data removed]",
      "text/plain": [
       "<Figure size 432x288 with 1 Axes>"
      ]
     },
     "metadata": {},
     "output_type": "display_data"
    },
    {
     "data": {
      "image/png": "[encoded data removed]",
      "text/plain": [
       "<Figure size 432x288 with 1 Axes>"
      ]
     },
     "metadata": {},
     "output_type": "display_data"
    }
   ],
   "source": [
    "\n",
    "coords=np.concatenate([m74.tvec, m72.tvec, m71.tvec]).reshape(3,-1).transpose()\n",
    "x = coords[0]\n",
    "y = coords[1]\n",
    "\n",
    "plt.scatter(x, y)\n",
    "plt.show()\n",
    "\n",
    "coords=np.concatenate([worldPos[0], worldPos[1], worldPos[2]]).reshape(3,-1).transpose()\n",
    "x = coords[0]\n",
    "y = coords[1]\n",
    "\n",
    "plt.scatter(x, y)\n",
    "plt.show()\n",
    "\n"
   ]
  },
  {
   "cell_type": "code",
   "execution_count": null,
   "metadata": {
    "collapsed": true
   },
   "outputs": [],
   "source": [
    "[-0.17185973,\n",
    "  0.98206893,\n",
    "  0.07749094,\n",
    "  0.70365828,\n",
    "  0.17742803,\n",
    "  -0.6880293,\n",
    "  -0.68944127,\n",
    "  -0.06371739,\n",
    "  -0.72153367]"
   ]
  }
 ],
 "metadata": {
  "kernelspec": {
   "display_name": "Python 3",
   "language": "python",
   "name": "python3"
  },
  "language_info": {
   "codemirror_mode": {
    "name": "ipython",
    "version": 3
   },
   "file_extension": ".py",
   "mimetype": "text/x-python",
   "name": "python",
   "nbconvert_exporter": "python",
   "pygments_lexer": "ipython3",
   "version": "3.6.6"
  }
 },
 "nbformat": 4,
 "nbformat_minor": 2
}
